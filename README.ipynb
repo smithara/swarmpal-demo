{
 "cells": [
  {
   "cell_type": "markdown",
   "metadata": {},
   "source": [
    "# SwarmPAL demo tool"
   ]
  },
  {
   "cell_type": "markdown",
   "metadata": {},
   "source": [
    "## Initialisation\n",
    "\n",
    "If you are running this tool in the VRE, run the following cell to install the latest development version and get the demo notebooks available:"
   ]
  },
  {
   "cell_type": "code",
   "execution_count": null,
   "metadata": {},
   "outputs": [],
   "source": [
    "!git -C ~/swarmpal-demo submodule init\n",
    "!git -C ~/swarmpal-demo submodule update\n",
    "!git -C ~/swarmpal-demo/SwarmPAL checkout staging\n",
    "!pip install --upgrade --quiet --editable ~/swarmpal-demo/SwarmPAL"
   ]
  },
  {
   "cell_type": "markdown",
   "metadata": {},
   "source": [
    "(Wait for the above cell to complete (the * on the left of the cell should change to 1)"
   ]
  },
  {
   "cell_type": "markdown",
   "metadata": {},
   "source": [
    "## Browsing notebooks"
   ]
  },
  {
   "cell_type": "markdown",
   "metadata": {},
   "source": [
    "Now you can use the file browser on the left to navigate into the `SwarmPAL/docs/guides` directory and select a notebook.\n",
    "\n",
    "Or use these links:\n",
    "- [Quickstart](./SwarmPAL/docs/guides/quickstart.ipynb)\n",
    "- [FAC](./SwarmPAL/docs/guides/fac/intro_fac.ipynb)\n",
    "- [DSECS](./SwarmPAL/docs/guides/dsecs/intro_dsecs.ipynb)\n",
    "- [TFA](./SwarmPAL/docs/guides/tfa/intro_tfa.ipynb)\n",
    "\n",
    "These notebooks are also used to generate parts of [the online documentation](https://swarmpal.readthedocs.io)"
   ]
  }
 ],
 "metadata": {
  "kernelspec": {
   "display_name": "Python 3.10.6 64-bit",
   "language": "python",
   "name": "python3"
  },
  "language_info": {
   "name": "python",
   "version": "3.10.6"
  },
  "orig_nbformat": 4,
  "vscode": {
   "interpreter": {
    "hash": "916dbcbb3f70747c44a77c7bcd40155683ae19c65e1c03b4aa3499c5328201f1"
   }
  }
 },
 "nbformat": 4,
 "nbformat_minor": 2
}

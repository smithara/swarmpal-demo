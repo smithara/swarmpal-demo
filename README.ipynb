{
 "cells": [
  {
   "cell_type": "markdown",
   "metadata": {},
   "source": [
    "# SwarmPAL demo tool"
   ]
  },
  {
   "cell_type": "markdown",
   "metadata": {},
   "source": [
    "## Initialisation\n",
    "\n",
    "Run the following cell to fetch the demo notebooks (select the cell, then press Ctrl-Enter or click the \"Play\" button above):"
   ]
  },
  {
   "cell_type": "code",
   "execution_count": null,
   "metadata": {},
   "outputs": [],
   "source": [
    "!git -C $(pwd) submodule update --init --recursive --remote"
   ]
  },
  {
   "cell_type": "markdown",
   "metadata": {},
   "source": [
    "**Wait for the above cell to complete** (the * on the left of the cell should change to 1).\n",
    "\n",
    "If you want to experiment with editing SwarmPAL, you can install it in editable mode using the following line. This is only temporary. Next time you log in to the VRE, the environment will revert to the non-editable install."
   ]
  },
  {
   "cell_type": "code",
   "execution_count": null,
   "metadata": {},
   "outputs": [],
   "source": [
    "# !pip install --upgrade --editable $(pwd)/SwarmPAL"
   ]
  },
  {
   "cell_type": "markdown",
   "metadata": {},
   "source": [
    "## Browsing notebooks"
   ]
  },
  {
   "cell_type": "markdown",
   "metadata": {},
   "source": [
    "Follow these links to explore the notebooks:\n",
    "\n",
    "- [Quickstart](./SwarmPAL/docs/guides/quickstart.ipynb)\n",
    "- [TFA](./SwarmPAL/docs/guides/tfa/intro_tfa.ipynb)\n",
    "- [DSECS](./SwarmPAL/docs/guides/dsecs/intro_dsecs.ipynb) (Warning: it might be slow to run, taking up to 25 minutes)\n",
    "- [FAC](./SwarmPAL/docs/guides/fac/intro_fac.ipynb)\n",
    "\n",
    "Or you can use the file browser on the left to navigate into the `SwarmPAL/docs/guides` directory and select a notebook.\n",
    "\n",
    "These notebooks are also used to generate parts of [the online documentation](https://swarmpal.readthedocs.io)"
   ]
  }
 ],
 "metadata": {
  "kernelspec": {
   "display_name": "Python 3.10.8 ('jlab-2023.1')",
   "language": "python",
   "name": "python3"
  },
  "language_info": {
   "codemirror_mode": {
    "name": "ipython",
    "version": 3
   },
   "file_extension": ".py",
   "mimetype": "text/x-python",
   "name": "python",
   "nbconvert_exporter": "python",
   "pygments_lexer": "ipython3",
   "version": "3.10.8"
  },
  "orig_nbformat": 4,
  "vscode": {
   "interpreter": {
    "hash": "78a4ad51eb09e16c75490e7042123dc313458937f8645f19a10120c84f6015ff"
   }
  }
 },
 "nbformat": 4,
 "nbformat_minor": 2
}
